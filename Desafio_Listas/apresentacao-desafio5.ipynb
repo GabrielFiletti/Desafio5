{
 "cells": [
  {
   "cell_type": "markdown",
   "metadata": {
    "slideshow": {
     "slide_type": "slide"
    }
   },
   "source": [
    "<center><img src=\"https://www.portalmouralacerda.com.br/wp-content/uploads/2017/07/criatividade.png\" style=\"width: 900px;\"/></center>\n",
    "\n",
    "# Desafio 5 - Git & Python\n",
    "---\n"
   ]
  },
  {
   "cell_type": "markdown",
   "metadata": {
    "slideshow": {
     "slide_type": "slide"
    }
   },
   "source": [
    "# Integrantes\n",
    "---\n",
    "* Gabriel Martins\n",
    "* Duan Cleypaul\n",
    "* Bruna Fortunato\n",
    "* Andre Scremin"
   ]
  },
  {
   "cell_type": "markdown",
   "metadata": {
    "slideshow": {
     "slide_type": "slide"
    }
   },
   "source": [
    "# Desafio 5\n",
    "---\n",
    "\n",
    "Há um número de plantas em um jardim. Cada uma dessas plantas foi tratada com uma certa quantidade de pesticida. Após cada dia, se alguma planta tiver mais pesticida que a esquerda, sendo mais fraca que a esquerda, ela morre.\n",
    "\n",
    "Você recebe os valores iniciais do pesticida em cada uma das plantas. Imprima o número de dias após o qual nenhuma planta morre, ou seja, o tempo após o qual não há plantas com mais conteúdo de pesticida do que a planta à sua esquerda.\n",
    "\n",
    "Por exemplo, níveis de pesticidas p = [3,6,2,7,5]. Usando uma matriz 1-d indexada, no dia 1 as plantas 2 e 4 morrem deixando p = [3,2,5]. No dia 2, a planta 3 morre saindo p = [3,2]. Como não existe planta com maior concentração de pesticida do que a esquerda, as plantas param de morrer após o dia 2."
   ]
  },
  {
   "cell_type": "markdown",
   "metadata": {
    "slideshow": {
     "slide_type": "slide"
    }
   },
   "source": [
    "# Descrição e Formato de Entrada\n",
    "---\n",
    "\n",
    "* Implementar uma função que retorna um número inteiro representando o número de dias até que as plantas não morram mais de pesticidas.\n",
    "\n",
    "* A primeira linha contém um número inteiro referente ao tamanho da matriz. A próxima linha contém números inteiros separados por espaço representando a matriz."
   ]
  },
  {
   "cell_type": "markdown",
   "metadata": {
    "slideshow": {
     "slide_type": "slide"
    }
   },
   "source": [
    "# Código\n",
    "---"
   ]
  },
  {
   "cell_type": "markdown",
   "metadata": {
    "slideshow": {
     "slide_type": "fragment"
    }
   },
   "source": [
    "    import sys\n",
    "\n",
    "    def numeroDeDias(ar):\n",
    "        n = -1              # Numero de dias em que houve a morte de plantas\n",
    "        morreu = True       # Indica se alguma planta morreu no dia atual\n",
    "\n",
    "        # While conta o número de dias até que as plantas pararam de morrer\n",
    "\n",
    "        while morreu:\n",
    "            print(ar)\n",
    "            morreu = False          # Reseta o valor no começo de cada iteração\n",
    "            indices_morreu = []     # Lista auxiliar, armazena índices a remover\n",
    "\n",
    "            for i in range(len(ar)):\n",
    "                if i == 0: continue         # Evita erro de lista out of bounds\n",
    "                if ar[i] > ar[i-1]:\n",
    "                    morreu = True\n",
    "                    indices_morreu.append(i)\n",
    "\n",
    "\n",
    "            for x in reversed(indices_morreu):\n",
    "                ar.pop(x)\n",
    "            n += 1\n",
    "        return n"
   ]
  },
  {
   "cell_type": "markdown",
   "metadata": {
    "slideshow": {
     "slide_type": "subslide"
    }
   },
   "source": [
    "# Código\n",
    "---\n",
    "    ar_count = int(input(\"Insira o número de elementos do vetor:\"))\n",
    "    ar = [0] * ar_count\n",
    "\n",
    "    print(\"Insira os elementos do vetor (separados por espaços):\")\n",
    "    ar_aux  = list(map(int, input().rstrip().split()))\n",
    "\n",
    "    if len(ar_aux) == ar_count:\n",
    "        for i in range(len(ar)):\n",
    "            ar[i] = ar_aux[i]\n",
    "    else:\n",
    "        sys.exit(\"Erro! O número de elementos iseridos é diferente do tamanho do vetor\")\n",
    "\n",
    "    result = numeroDeDias(ar)\n",
    "\n",
    "    print(\"Número de dias até que as plantas parem de morrer:\")\n",
    "    print(result)\n"
   ]
  },
  {
   "cell_type": "markdown",
   "metadata": {
    "slideshow": {
     "slide_type": "slide"
    }
   },
   "source": [
    "# Terminal\n",
    "---\n"
   ]
  }
 ],
 "metadata": {
  "celltoolbar": "Slideshow",
  "kernelspec": {
   "display_name": "Python 3",
   "language": "python",
   "name": "python3"
  },
  "language_info": {
   "codemirror_mode": {
    "name": "ipython",
    "version": 3
   },
   "file_extension": ".py",
   "mimetype": "text/x-python",
   "name": "python",
   "nbconvert_exporter": "python",
   "pygments_lexer": "ipython3",
   "version": "3.7.4"
  }
 },
 "nbformat": 4,
 "nbformat_minor": 2
}
